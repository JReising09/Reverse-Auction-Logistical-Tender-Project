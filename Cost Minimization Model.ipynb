{
 "cells": [
  {
   "cell_type": "code",
   "execution_count": null,
   "metadata": {},
   "outputs": [],
   "source": [
    "#Import of main libraries \n",
    "%matplotlib inline\n",
    "from matplotlib import pyplot as plt\n",
    "import numpy as np \n",
    "from __future__ import division, print_function\n",
    "from pandas import read_excel\n",
    "from pandas import DataFrame\n",
    "from pandas import ExcelWriter\n",
    "from pandas import ExcelFile"
   ]
  },
  {
   "cell_type": "code",
   "execution_count": null,
   "metadata": {},
   "outputs": [],
   "source": [
    "#Import of the pyomo module (May need to pip install)\n",
    "from pyomo.environ import *\n",
    "#Creation of a Concrete Model\n",
    "model = ConcreteModel()"
   ]
  },
  {
   "cell_type": "code",
   "execution_count": null,
   "metadata": {
    "scrolled": true
   },
   "outputs": [],
   "source": [
    "BidsDf = read_excel('Logistics Tendering Data for CaseStudy PIC2018.xlsx', sheet_name='Bids')"
   ]
  },
  {
   "cell_type": "code",
   "execution_count": null,
   "metadata": {
    "scrolled": true
   },
   "outputs": [],
   "source": [
    "BidsDf.head()"
   ]
  },
  {
   "cell_type": "code",
   "execution_count": null,
   "metadata": {},
   "outputs": [],
   "source": [
    "BidsDf.dtypes"
   ]
  },
  {
   "cell_type": "code",
   "execution_count": null,
   "metadata": {
    "scrolled": true
   },
   "outputs": [],
   "source": [
    "LanesDf = read_excel('Logistics Tendering Data for CaseStudy PIC2018.xlsx', sheet_name='Lots')\n",
    "LanesDf.head()"
   ]
  },
  {
   "cell_type": "code",
   "execution_count": null,
   "metadata": {
    "scrolled": true
   },
   "outputs": [],
   "source": [
    "#Create a data frame for delta\n",
    "deltaDf = DataFrame(np.zeros((len(LanesDf.index), len(BidsDf.index))))\n",
    "\n",
    "for bid in BidsDf.index:\n",
    "    deltaDf.at[BidsDf.loc[bid,'Lot#'] - 1, bid] = 1\n"
   ]
  },
  {
   "cell_type": "code",
   "execution_count": null,
   "metadata": {},
   "outputs": [],
   "source": [
    "# Create a data frame for gamma\n",
    "gammaDf = DataFrame(np.zeros((len(LanesDf.index), len(BidsDf.index))))\n",
    "\n",
    "for bid in BidsDf.index:\n",
    "    gammaDf.at[BidsDf.loc[]]"
   ]
  },
  {
   "cell_type": "code",
   "execution_count": null,
   "metadata": {},
   "outputs": [],
   "source": [
    "#Number of bids in the program\n",
    "model.numBids = len(BidsDf.index)\n",
    "#Number of lanes in the program\n",
    "model.numItems = len(LanesDf.index)"
   ]
  },
  {
   "cell_type": "code",
   "execution_count": null,
   "metadata": {},
   "outputs": [],
   "source": [
    "## Define sets\n",
    "model.BIDS = Set(initialize = BidsDf.index.values)\n",
    "model.LANES = Set(initialize = LanesDf.index.values)"
   ]
  },
  {
   "cell_type": "code",
   "execution_count": null,
   "metadata": {
    "scrolled": true
   },
   "outputs": [],
   "source": [
    "# Create a dictionary of the bid values\n",
    "bidValues = dict()\n",
    "for bid in BidsDf.index:\n",
    "    bidValues[bid] = BidsDf.loc[bid, 'Cost']\n",
    "bidValues"
   ]
  },
  {
   "cell_type": "code",
   "execution_count": null,
   "metadata": {},
   "outputs": [],
   "source": [
    "#Initialize bidValue parameter with the value of each bid \n",
    "model.bidValue = Param(model.BIDS, initialize = bidValues, doc='Value of each bid in the program')"
   ]
  },
  {
   "cell_type": "code",
   "execution_count": null,
   "metadata": {},
   "outputs": [],
   "source": [
    "#Create a dictionary of the total volume on each lane\n",
    "demandValues = dict()\n",
    "for lane in LanesDf.index:\n",
    "    demandValues[lane] = 1"
   ]
  },
  {
   "cell_type": "code",
   "execution_count": null,
   "metadata": {},
   "outputs": [],
   "source": [
    "#Initialize demand parameter with the total volume on each lane (rep as demand/multiplicity)\n",
    "model.demand = Param(model.LANES, initialize = demandValues, doc='Total demand on each lane')"
   ]
  },
  {
   "cell_type": "code",
   "execution_count": null,
   "metadata": {},
   "outputs": [],
   "source": [
    "#Create a dictionary of the delta values\n",
    "delta = dict()\n",
    "for lane in LanesDf.index:\n",
    "    for bid in BidsDf.index:\n",
    "        delta[(lane,bid)] = deltaDf.loc[lane,bid]\n",
    "#delta"
   ]
  },
  {
   "cell_type": "code",
   "execution_count": null,
   "metadata": {},
   "outputs": [],
   "source": [
    "#Initialize the delta parameter\n",
    "model.delta = Param(model.LANES, model.BIDS, initialize=delta, doc='delta gives information regarding which lanes are in a bid package')"
   ]
  },
  {
   "cell_type": "code",
   "execution_count": null,
   "metadata": {},
   "outputs": [],
   "source": [
    "#Create a dictionary for the cardinality of each bid\n",
    "cardinality = dict()\n",
    "for bid in BidsDf.index:\n",
    "    cardinality[bid] = deltaDf[bid].sum()\n",
    "#cardinality"
   ]
  },
  {
   "cell_type": "code",
   "execution_count": null,
   "metadata": {},
   "outputs": [],
   "source": [
    "#Initialize the cardinality parameter\n",
    "model.cardinality = Param(model.BIDS, initialize = cardinality, doc='Number of lanes in a bid package, |S_b|')"
   ]
  },
  {
   "cell_type": "code",
   "execution_count": null,
   "metadata": {},
   "outputs": [],
   "source": [
    "#Define the decision variable\n",
    "model.x = Var(model.BIDS, domain = Binary, doc='Decision variable for each bid in the program')"
   ]
  },
  {
   "cell_type": "code",
   "execution_count": null,
   "metadata": {},
   "outputs": [],
   "source": [
    "#Objective minimizes the sum of x_b * v_b over all bids\n",
    "def obj_expression(model):\n",
    "    return sum(model.bidValue[i]*model.x[i] for i in model.BIDS)\n",
    "model.OBJ = Objective(rule=obj_expression, sense=minimize, doc='Objective function definition')"
   ]
  },
  {
   "cell_type": "code",
   "execution_count": null,
   "metadata": {},
   "outputs": [],
   "source": [
    "#Define constraints\n",
    "def constraint_rule(model, l):\n",
    "    return sum(model.delta[l,b]*model.x[b] for b in model.BIDS) <= model.demand[l]\n",
    "model.xConstraint = Constraint(model.LANES, rule=constraint_rule)\n",
    "\n",
    "def demand_constraint_rule(model):\n",
    "    return sum(model.x[b]*model.cardinality[b] for b in model.BIDS) >= model.numItems\n",
    "model.demandConstraint = Constraint(rule=demand_constraint_rule)"
   ]
  },
  {
   "cell_type": "code",
   "execution_count": null,
   "metadata": {},
   "outputs": [],
   "source": [
    "#Display of the output in order to retrieve and use in python\n",
    "def pyomo_postprocess(options=None, instance=None, results=None):\n",
    "    model.x.display()"
   ]
  },
  {
   "cell_type": "code",
   "execution_count": null,
   "metadata": {},
   "outputs": [],
   "source": [
    "#Run the model\n",
    "from pyomo.opt import SolverFactory\n",
    "import pyomo.environ\n",
    "opt = SolverFactory(\"glpk\")\n",
    "%timeit results = opt.solve(model)"
   ]
  },
  {
   "cell_type": "code",
   "execution_count": null,
   "metadata": {},
   "outputs": [],
   "source": [
    "results = opt.solve(model)\n",
    "model.solutions.store_to(results)\n",
    "print(results)"
   ]
  },
  {
   "cell_type": "code",
   "execution_count": null,
   "metadata": {
    "scrolled": true
   },
   "outputs": [],
   "source": [
    "#sends results to stdout\n",
    "results.write()\n",
    "print(\"\\nDisplaying Solution\\n\" + '-'*60)\n",
    "pyomo_postprocess(None, model, results)"
   ]
  },
  {
   "cell_type": "code",
   "execution_count": null,
   "metadata": {
    "scrolled": true
   },
   "outputs": [],
   "source": [
    "model.pprint()"
   ]
  },
  {
   "cell_type": "code",
   "execution_count": null,
   "metadata": {},
   "outputs": [],
   "source": [
    "winningBids = []\n",
    "index = 0\n",
    "bidNum = 0\n",
    "for bids in range(2199):\n",
    "    if model.x[bids].value > 0:\n",
    "        winningBids.append(bidNum)\n",
    "    bidNum += 1\n",
    "    index += 1"
   ]
  },
  {
   "cell_type": "code",
   "execution_count": null,
   "metadata": {},
   "outputs": [],
   "source": [
    "len(winningBids) #Quick check of the length of winning bids."
   ]
  },
  {
   "cell_type": "code",
   "execution_count": null,
   "metadata": {},
   "outputs": [],
   "source": [
    "winningBidsDf = BidsDf.iloc[winningBids]\n",
    "winningBidsDf.head()"
   ]
  },
  {
   "cell_type": "code",
   "execution_count": null,
   "metadata": {},
   "outputs": [],
   "source": [
    "Total = winningBidsDf['Cost'].sum()\n",
    "Total"
   ]
  },
  {
   "cell_type": "code",
   "execution_count": null,
   "metadata": {},
   "outputs": [],
   "source": [
    "sum(winningBidsDf['Cost']*winningBidsDf['# Shipments/Lot'])"
   ]
  },
  {
   "cell_type": "code",
   "execution_count": null,
   "metadata": {},
   "outputs": [],
   "source": [
    "winningBidsDf.to_csv('WinningBids.csv')"
   ]
  }
 ],
 "metadata": {
  "kernelspec": {
   "display_name": "Python 3",
   "language": "python",
   "name": "python3"
  },
  "language_info": {
   "codemirror_mode": {
    "name": "ipython",
    "version": 3
   },
   "file_extension": ".py",
   "mimetype": "text/x-python",
   "name": "python",
   "nbconvert_exporter": "python",
   "pygments_lexer": "ipython3",
   "version": "3.6.5"
  }
 },
 "nbformat": 4,
 "nbformat_minor": 1
}
