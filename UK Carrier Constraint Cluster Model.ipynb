{
 "cells": [
  {
   "cell_type": "markdown",
   "metadata": {
    "collapsed": false
   },
   "source": [
    "### Main Libraries Needed"
   ]
  },
  {
   "cell_type": "code",
   "execution_count": 1,
   "metadata": {
    "collapsed": false
   },
   "outputs": [
   ],
   "source": [
    "#Import of main libraries\n",
    "\n",
    "%matplotlib inline\n",
    "from matplotlib import pyplot as plt\n",
    "import numpy as np \n",
    "from __future__ import division, print_function\n",
    "from pandas import read_csv\n",
    "from pandas import read_excel\n",
    "from pandas import DataFrame\n",
    "from pandas import ExcelWriter\n",
    "from pandas import ExcelFile\n",
    "\n",
    "#Import of the pyomo module\n",
    "from pyomo.environ import *"
   ]
  },
  {
   "cell_type": "markdown",
   "metadata": {
    "collapsed": false
   },
   "source": [
    "### Importing and creating necessary Data Frames"
   ]
  },
  {
   "cell_type": "code",
   "execution_count": 2,
   "metadata": {
    "collapsed": false
   },
   "outputs": [
   ],
   "source": [
    "#Import Bids, Lanes, and Carrier DF's\n",
    "bidsDf = read_csv(\"UK Bids.csv\")\n",
    "bidsDf = bidsDf.drop(\"Unnamed: 0\", axis = 1)\n",
    "lanesDf = read_csv(\"UK Lanes.csv\")\n",
    "lanesDf = lanesDf.drop(\"Unnamed: 0\", axis = 1)\n",
    "CarriersDf = read_csv(\"Carriers.csv\")\n",
    "CarriersDf = CarriersDf.drop(\"Unnamed: 0\", axis = 1)"
   ]
  },
  {
   "cell_type": "code",
   "execution_count": 3,
   "metadata": {
    "collapsed": false
   },
   "outputs": [
   ],
   "source": [
    "#Create data frames for delta matrix\n",
    "deltaDf = DataFrame(np.zeros((len(lanesDf.index), len(bidsDf.index))))\n",
    "for bid in bidsDf.index:\n",
    "    deltaDf.at[bidsDf.loc[bid,'Cluster Lot Index'] - 1, bid] = 1"
   ]
  },
  {
   "cell_type": "code",
   "execution_count": 4,
   "metadata": {
    "collapsed": false
   },
   "outputs": [
   ],
   "source": [
    "# Create the eta DF\n",
    "etaDf = DataFrame(np.zeros((len(CarriersDf.index), len(bidsDf.index))))\n",
    "for bid in bidsDf.index:\n",
    "    etaDf.at[bidsDf.loc[bid,'Carrier Index'] - 1, bid] = 1"
   ]
  },
  {
   "cell_type": "code",
   "execution_count": 5,
   "metadata": {
    "collapsed": false
   },
   "outputs": [
   ],
   "source": [
    "import pandas as pd"
   ]
  },
  {
   "cell_type": "code",
   "execution_count": 6,
   "metadata": {
    "collapsed": false
   },
   "outputs": [
   ],
   "source": [
    "Mc = pd.Series(np.sum(etaDf, axis = 1))"
   ]
  },
  {
   "cell_type": "code",
   "execution_count": 7,
   "metadata": {
    "collapsed": false
   },
   "outputs": [
    {
     "data": {
      "text/plain": [
       "0     9.0\n",
       "1     9.0\n",
       "2     9.0\n",
       "3     9.0\n",
       "4     6.0\n",
       "5     9.0\n",
       "6     0.0\n",
       "7     9.0\n",
       "8     7.0\n",
       "9     6.0\n",
       "10    2.0\n",
       "11    0.0\n",
       "12    9.0\n",
       "13    5.0\n",
       "14    0.0\n",
       "15    0.0\n",
       "dtype: float64"
      ]
     },
     "execution_count": 7,
     "metadata": {
     },
     "output_type": "execute_result"
    }
   ],
   "source": [
    "Mc"
   ]
  },
  {
   "cell_type": "markdown",
   "metadata": {
    "collapsed": false
   },
   "source": [
    "### Create the necessary dictionaries"
   ]
  },
  {
   "cell_type": "code",
   "execution_count": 8,
   "metadata": {
    "collapsed": false
   },
   "outputs": [
   ],
   "source": [
    "carriers = Mc.to_dict()\n",
    "\n",
    "bidValues = dict()\n",
    "for bid in bidsDf.index:\n",
    "    bidValues[bid] = bidsDf.loc[bid, 'Cost']\n",
    "\n",
    "demandValues = dict()\n",
    "for lane in lanesDf.index:\n",
    "    demandValues[lane] = 1\n",
    "\n",
    "delta = dict()\n",
    "for lane in lanesDf.index:\n",
    "    for bid in bidsDf.index:\n",
    "        delta[(lane,bid)] = deltaDf.loc[lane,bid]\n",
    "\n",
    "eta = dict()\n",
    "for c in CarriersDf.index:\n",
    "    for bid in bidsDf.index:\n",
    "        eta[(c,bid)] = etaDf.loc[c,bid]\n"
   ]
  },
  {
   "cell_type": "code",
   "execution_count": 9,
   "metadata": {
    "collapsed": false
   },
   "outputs": [
   ],
   "source": [
    "# Create the Concrete Model\n",
    "model = ConcreteModel()\n",
    "\n",
    "model.numBids = len(bidsDf.index)\n",
    "\n",
    "model.numItems = len(lanesDf.index)\n",
    "\n",
    "model.numCarriers = len(CarriersDf.index)\n",
    "\n",
    "model.BIDS = Set(initialize = bidsDf.index.values)\n",
    "\n",
    "model.LANES = Set(initialize = lanesDf.index.values)\n",
    "\n",
    "model.CARRIERS = Set( initialize = CarriersDf.index.values)\n",
    "\n",
    "model.M = Param(model.CARRIERS, initialize = carriers)\n",
    "\n",
    "model.bidValue = Param(model.BIDS, initialize = bidValues, doc='Value of each bid in the program')\n",
    "\n",
    "model.demand = Param(model.LANES, initialize = demandValues, doc='Total demand on each lane')\n",
    "\n",
    "# Below is where I made the suggested work around from https://stackoverflow.com/questions/45616967/pyomo-valueerror-invalid-constraint-expression\n",
    "\n",
    "model.delta = Param(model.LANES, model.BIDS, initialize= delta, doc='delta gives information regarding which lanes are in a bid package')#,mutable = True)\n",
    "\n",
    "model.eta = Param(model.CARRIERS, model.BIDS, initialize= eta, doc='eta gives information regarding which carriers are in a bid package', mutable = True)\n",
    "\n",
    "model.x = Var(model.BIDS, domain = Binary, doc='Decision variable for each bid in the program')\n",
    "\n",
    "model.z = Var(model.CARRIERS, domain = Binary, doc='Decision variable for each carrier in the program')\n",
    "\n",
    "model.maxCarriers = 5\n",
    "model.minCarriers = 1"
   ]
  },
  {
   "cell_type": "markdown",
   "metadata": {
    "collapsed": false
   },
   "source": [
    "### Set Model Obj and Constraints"
   ]
  },
  {
   "cell_type": "code",
   "execution_count": 10,
   "metadata": {
    "collapsed": false
   },
   "outputs": [
   ],
   "source": [
    "def obj_expression(model):\n",
    "    return sum(model.bidValue[i]*model.x[i] for i in model.BIDS)\n",
    "model.OBJ = Objective(rule=obj_expression, sense=minimize, doc='Objective function definition')"
   ]
  },
  {
   "cell_type": "code",
   "execution_count": 11,
   "metadata": {
    "collapsed": false,
    "scrolled": true
   },
   "outputs": [
   ],
   "source": [
    "def constraint_rule(model, l):\n",
    "    return sum(model.delta[l,b]*model.x[b] for b in model.BIDS) <= model.demand[l]\n",
    "model.xConstraint = Constraint(model.LANES, rule=constraint_rule)\n",
    "\n",
    "def demand_constraint_rule(model):\n",
    "    return sum(model.x[b] for b in model.BIDS) >= model.numItems\n",
    "model.demandConstraint = Constraint(rule=demand_constraint_rule)\n",
    "\n",
    "def constraint2_rule(model, k):\n",
    "    return sum(model.eta[k,b]*model.x[b] for b in model.BIDS) - model.M[k]*model.z[k]<=0\n",
    "model.upperBoundConstraint = Constraint(model.CARRIERS, rule=constraint2_rule)\n",
    "\n",
    "def constraint3_rule(model, k):\n",
    "    return model.z[k] - sum(model.eta[k,b]*model.x[b] for b in model.BIDS)<=0\n",
    "model.lowerBoundConstraint = Constraint(model.CARRIERS, rule=constraint3_rule)\n",
    "\n",
    "def constraint4_rule(model):\n",
    "    return sum(model.z[i] for i in model.CARRIERS)<=model.maxCarriers\n",
    "model.zConstraint = Constraint(rule=constraint4_rule)\n",
    "\n",
    "def constraint5_rule(model):\n",
    "    return sum(model.z[i] for i in model.CARRIERS)>=model.minCarriers\n",
    "model.zConstraint2 = Constraint(rule=constraint5_rule)"
   ]
  },
  {
   "cell_type": "markdown",
   "metadata": {
    "collapsed": false
   },
   "source": [
    "### Run the Model"
   ]
  },
  {
   "cell_type": "code",
   "execution_count": 12,
   "metadata": {
    "collapsed": false
   },
   "outputs": [
   ],
   "source": [
    "def pyomo_postprocess(options=None, instance=None, results=None):\n",
    "    model.x.display()"
   ]
  },
  {
   "cell_type": "code",
   "execution_count": 13,
   "metadata": {
    "collapsed": false
   },
   "outputs": [
    {
     "name": "stdout",
     "output_type": "stream",
     "text": [
      "89.7 ms ± 7.5 ms per loop (mean ± std. dev. of 7 runs, 10 loops each)\n"
     ]
    }
   ],
   "source": [
    "from pyomo.opt import SolverFactory\n",
    "import pyomo.environ\n",
    "opt = SolverFactory(\"glpk\")\n",
    "%timeit results = opt.solve(model)"
   ]
  },
  {
   "cell_type": "code",
   "execution_count": 14,
   "metadata": {
    "collapsed": false
   },
   "outputs": [
    {
     "name": "stdout",
     "output_type": "stream",
     "text": [
      "\n",
      "Problem: \n",
      "- Name: unknown\n",
      "  Lower bound: 25192.8\n",
      "  Upper bound: 25192.8\n",
      "  Number of objectives: 1\n",
      "  Number of constraints: 45\n",
      "  Number of variables: 106\n",
      "  Number of nonzeros: 417\n",
      "  Sense: minimize\n",
      "Solver: \n",
      "- Status: ok\n",
      "  Termination condition: optimal\n",
      "  Statistics: \n",
      "    Branch and bound: \n",
      "      Number of bounded subproblems: 7\n",
      "      Number of created subproblems: 7\n",
      "  Error rc: 0\n",
      "  Time: 0.03034663200378418\n",
      "Solution: \n",
      "- number of solutions: 1\n",
      "  number of solutions displayed: 1\n",
      "- Gap: 0.0\n",
      "  Status: optimal\n",
      "  Message: None\n",
      "  Objective:\n",
      "    OBJ:\n",
      "      Value: 25192.8\n",
      "  Variable:\n",
      "    x[0]:\n",
      "      Value: 1\n",
      "    x[11]:\n",
      "      Value: 1\n",
      "    x[21]:\n",
      "      Value: 1\n",
      "    x[30]:\n",
      "      Value: 1\n",
      "    x[39]:\n",
      "      Value: 1\n",
      "    x[48]:\n",
      "      Value: 1\n",
      "    x[59]:\n",
      "      Value: 1\n",
      "    x[71]:\n",
      "      Value: 1\n",
      "    x[79]:\n",
      "      Value: 1\n",
      "    z[13]:\n",
      "      Value: 1\n",
      "    z[2]:\n",
      "      Value: 1\n",
      "    z[4]:\n",
      "      Value: 1\n",
      "  Constraint: No values\n",
      "\n"
     ]
    }
   ],
   "source": [
    "results = opt.solve(model)\n",
    "model.solutions.store_to(results)\n",
    "print(results)"
   ]
  },
  {
   "cell_type": "code",
   "execution_count": 15,
   "metadata": {
    "collapsed": false
   },
   "outputs": [
    {
     "name": "stdout",
     "output_type": "stream",
     "text": [
      "# ==========================================================\n",
      "# = Solver Results                                         =\n",
      "# ==========================================================\n",
      "# ----------------------------------------------------------\n",
      "#   Problem Information\n",
      "# ----------------------------------------------------------\n",
      "Problem: \n",
      "- Name: unknown\n",
      "  Lower bound: 25192.8\n",
      "  Upper bound: 25192.8\n",
      "  Number of objectives: 1\n",
      "  Number of constraints: 45\n",
      "  Number of variables: 106\n",
      "  Number of nonzeros: 417\n",
      "  Sense: minimize\n",
      "# ----------------------------------------------------------\n",
      "#   Solver Information\n",
      "# ----------------------------------------------------------\n",
      "Solver: \n",
      "- Status: ok\n",
      "  Termination condition: optimal\n",
      "  Statistics: \n",
      "    Branch and bound: \n",
      "      Number of bounded subproblems: 7\n",
      "      Number of created subproblems: 7\n",
      "  Error rc: 0\n",
      "  Time: 0.03034663200378418\n",
      "# ----------------------------------------------------------\n",
      "#   Solution Information\n",
      "# ----------------------------------------------------------\n",
      "Solution: \n",
      "- number of solutions: 1\n",
      "  number of solutions displayed: 1\n",
      "- Gap: 0.0\n",
      "  Status: optimal\n",
      "  Message: None\n",
      "  Objective:\n",
      "    OBJ:\n",
      "      Value: 25192.8\n",
      "  Variable:\n",
      "    x[0]:\n",
      "      Value: 1\n",
      "    x[11]:\n",
      "      Value: 1\n",
      "    x[21]:\n",
      "      Value: 1\n",
      "    x[30]:\n",
      "      Value: 1\n",
      "    x[39]:\n",
      "      Value: 1\n",
      "    x[48]:\n",
      "      Value: 1\n",
      "    x[59]:\n",
      "      Value: 1\n",
      "    x[71]:\n",
      "      Value: 1\n",
      "    x[79]:\n",
      "      Value: 1\n",
      "    z[13]:\n",
      "      Value: 1\n",
      "    z[2]:\n",
      "      Value: 1\n",
      "    z[4]:\n",
      "      Value: 1\n",
      "  Constraint: No values\n",
      "\n",
      "Displaying Solution\n",
      "------------------------------------------------------------\n",
      "x : Decision variable for each bid in the program\n",
      "    Size=89, Index=BIDS\n",
      "    Key : Lower : Value : Upper : Fixed : Stale : Domain\n",
      "      0 :     0 :   1.0 :     1 : False : False : Binary\n",
      "      1 :     0 :   0.0 :     1 : False : False : Binary\n",
      "      2 :     0 :   0.0 :     1 : False : False : Binary\n",
      "      3 :     0 :   0.0 :     1 : False : False : Binary\n",
      "      4 :     0 :   0.0 :     1 : False : False : Binary\n",
      "      5 :     0 :   0.0 :     1 : False : False : Binary\n",
      "      6 :     0 :   0.0 :     1 : False : False : Binary\n",
      "      7 :     0 :   0.0 :     1 : False : False : Binary\n",
      "      8 :     0 :   0.0 :     1 : False : False : Binary\n",
      "      9 :     0 :   0.0 :     1 : False : False : Binary\n",
      "     10 :     0 :   0.0 :     1 : False : False : Binary\n",
      "     11 :     0 :   1.0 :     1 : False : False : Binary\n",
      "     12 :     0 :   0.0 :     1 : False : False : Binary\n",
      "     13 :     0 :   0.0 :     1 : False : False : Binary\n",
      "     14 :     0 :   0.0 :     1 : False : False : Binary\n",
      "     15 :     0 :   0.0 :     1 : False : False : Binary\n",
      "     16 :     0 :   0.0 :     1 : False : False : Binary\n",
      "     17 :     0 :   0.0 :     1 : False : False : Binary\n",
      "     18 :     0 :   0.0 :     1 : False : False : Binary\n",
      "     19 :     0 :   0.0 :     1 : False : False : Binary\n",
      "     20 :     0 :   0.0 :     1 : False : False : Binary\n",
      "     21 :     0 :   1.0 :     1 : False : False : Binary\n",
      "     22 :     0 :   0.0 :     1 : False : False : Binary\n",
      "     23 :     0 :   0.0 :     1 : False : False : Binary\n",
      "     24 :     0 :   0.0 :     1 : False : False : Binary\n",
      "     25 :     0 :   0.0 :     1 : False : False : Binary\n",
      "     26 :     0 :   0.0 :     1 : False : False : Binary\n",
      "     27 :     0 :   0.0 :     1 : False : False : Binary\n",
      "     28 :     0 :   0.0 :     1 : False : False : Binary\n",
      "     29 :     0 :   0.0 :     1 : False : False : Binary\n",
      "     30 :     0 :   1.0 :     1 : False : False : Binary\n",
      "     31 :     0 :   0.0 :     1 : False : False : Binary\n",
      "     32 :     0 :   0.0 :     1 : False : False : Binary\n",
      "     33 :     0 :   0.0 :     1 : False : False : Binary\n",
      "     34 :     0 :   0.0 :     1 : False : False : Binary\n",
      "     35 :     0 :   0.0 :     1 : False : False : Binary\n",
      "     36 :     0 :   0.0 :     1 : False : False : Binary\n",
      "     37 :     0 :   0.0 :     1 : False : False : Binary\n",
      "     38 :     0 :   0.0 :     1 : False : False : Binary\n",
      "     39 :     0 :   1.0 :     1 : False : False : Binary\n",
      "     40 :     0 :   0.0 :     1 : False : False : Binary\n",
      "     41 :     0 :   0.0 :     1 : False : False : Binary\n",
      "     42 :     0 :   0.0 :     1 : False : False : Binary\n",
      "     43 :     0 :   0.0 :     1 : False : False : Binary\n",
      "     44 :     0 :   0.0 :     1 : False : False : Binary\n",
      "     45 :     0 :   0.0 :     1 : False : False : Binary\n",
      "     46 :     0 :   0.0 :     1 : False : False : Binary\n",
      "     47 :     0 :   0.0 :     1 : False : False : Binary\n",
      "     48 :     0 :   1.0 :     1 : False : False : Binary\n",
      "     49 :     0 :   0.0 :     1 : False : False : Binary\n",
      "     50 :     0 :   0.0 :     1 : False : False : Binary\n",
      "     51 :     0 :   0.0 :     1 : False : False : Binary\n",
      "     52 :     0 :   0.0 :     1 : False : False : Binary\n",
      "     53 :     0 :   0.0 :     1 : False : False : Binary\n",
      "     54 :     0 :   0.0 :     1 : False : False : Binary\n",
      "     55 :     0 :   0.0 :     1 : False : False : Binary\n",
      "     56 :     0 :   0.0 :     1 : False : False : Binary\n",
      "     57 :     0 :   0.0 :     1 : False : False : Binary\n",
      "     58 :     0 :   0.0 :     1 : False : False : Binary\n",
      "     59 :     0 :   1.0 :     1 : False : False : Binary\n",
      "     60 :     0 :   0.0 :     1 : False : False : Binary\n",
      "     61 :     0 :   0.0 :     1 : False : False : Binary\n",
      "     62 :     0 :   0.0 :     1 : False : False : Binary\n",
      "     63 :     0 :   0.0 :     1 : False : False : Binary\n",
      "     64 :     0 :   0.0 :     1 : False : False : Binary\n",
      "     65 :     0 :   0.0 :     1 : False : False : Binary\n",
      "     66 :     0 :   0.0 :     1 : False : False : Binary\n",
      "     67 :     0 :   0.0 :     1 : False : False : Binary\n",
      "     68 :     0 :   0.0 :     1 : False : False : Binary\n",
      "     69 :     0 :   0.0 :     1 : False : False : Binary\n",
      "     70 :     0 :   0.0 :     1 : False : False : Binary\n",
      "     71 :     0 :   1.0 :     1 : False : False : Binary\n",
      "     72 :     0 :   0.0 :     1 : False : False : Binary\n",
      "     73 :     0 :   0.0 :     1 : False : False : Binary\n",
      "     74 :     0 :   0.0 :     1 : False : False : Binary\n",
      "     75 :     0 :   0.0 :     1 : False : False : Binary\n",
      "     76 :     0 :   0.0 :     1 : False : False : Binary\n",
      "     77 :     0 :   0.0 :     1 : False : False : Binary\n",
      "     78 :     0 :   0.0 :     1 : False : False : Binary\n",
      "     79 :     0 :   1.0 :     1 : False : False : Binary\n",
      "     80 :     0 :   0.0 :     1 : False : False : Binary\n",
      "     81 :     0 :   0.0 :     1 : False : False : Binary\n",
      "     82 :     0 :   0.0 :     1 : False : False : Binary\n",
      "     83 :     0 :   0.0 :     1 : False : False : Binary\n",
      "     84 :     0 :   0.0 :     1 : False : False : Binary\n",
      "     85 :     0 :   0.0 :     1 : False : False : Binary\n",
      "     86 :     0 :   0.0 :     1 : False : False : Binary\n",
      "     87 :     0 :   0.0 :     1 : False : False : Binary\n",
      "     88 :     0 :   0.0 :     1 : False : False : Binary\n"
     ]
    }
   ],
   "source": [
    "results.write()\n",
    "print(\"\\nDisplaying Solution\\n\" + '-'*60)\n",
    "pyomo_postprocess(None, model, results)"
   ]
  },
  {
   "cell_type": "code",
   "execution_count": 0,
   "metadata": {
    "collapsed": false,
    "scrolled": true
   },
   "outputs": [
   ],
   "source": [
    "#model.pprint()"
   ]
  },
  {
   "cell_type": "code",
   "execution_count": 16,
   "metadata": {
    "collapsed": false
   },
   "outputs": [
    {
     "data": {
      "text/html": [
       "<div>\n",
       "<style scoped>\n",
       "    .dataframe tbody tr th:only-of-type {\n",
       "        vertical-align: middle;\n",
       "    }\n",
       "\n",
       "    .dataframe tbody tr th {\n",
       "        vertical-align: top;\n",
       "    }\n",
       "\n",
       "    .dataframe thead th {\n",
       "        text-align: right;\n",
       "    }\n",
       "</style>\n",
       "<table border=\"1\" class=\"dataframe\">\n",
       "  <thead>\n",
       "    <tr style=\"text-align: right;\">\n",
       "      <th></th>\n",
       "      <th>Bid</th>\n",
       "      <th>Carrier</th>\n",
       "      <th>Lot</th>\n",
       "      <th>Lot#</th>\n",
       "      <th>Cost</th>\n",
       "      <th>Rank</th>\n",
       "      <th>Lowest Bid</th>\n",
       "      <th>Delta vs Lowest</th>\n",
       "      <th>Shipments per Lot</th>\n",
       "      <th>Site Cluster</th>\n",
       "      <th>Carrier Index</th>\n",
       "      <th>Cluster Lot Index</th>\n",
       "    </tr>\n",
       "  </thead>\n",
       "  <tbody>\n",
       "    <tr>\n",
       "      <th>0</th>\n",
       "      <td>ITLW@ISO_057</td>\n",
       "      <td>ITLW</td>\n",
       "      <td>ISO_057</td>\n",
       "      <td>57</td>\n",
       "      <td>3900.0</td>\n",
       "      <td>1</td>\n",
       "      <td>3900.0</td>\n",
       "      <td>0.0</td>\n",
       "      <td>41</td>\n",
       "      <td>UK</td>\n",
       "      <td>5</td>\n",
       "      <td>1</td>\n",
       "    </tr>\n",
       "    <tr>\n",
       "      <th>11</th>\n",
       "      <td>SUTI@ISO_058</td>\n",
       "      <td>SUTI</td>\n",
       "      <td>ISO_058</td>\n",
       "      <td>58</td>\n",
       "      <td>3232.8</td>\n",
       "      <td>1</td>\n",
       "      <td>3232.8</td>\n",
       "      <td>0.0</td>\n",
       "      <td>10</td>\n",
       "      <td>UK</td>\n",
       "      <td>14</td>\n",
       "      <td>2</td>\n",
       "    </tr>\n",
       "    <tr>\n",
       "      <th>21</th>\n",
       "      <td>ITLW@ISO_059</td>\n",
       "      <td>ITLW</td>\n",
       "      <td>ISO_059</td>\n",
       "      <td>59</td>\n",
       "      <td>2220.0</td>\n",
       "      <td>1</td>\n",
       "      <td>2220.0</td>\n",
       "      <td>0.0</td>\n",
       "      <td>9</td>\n",
       "      <td>UK</td>\n",
       "      <td>5</td>\n",
       "      <td>3</td>\n",
       "    </tr>\n",
       "    <tr>\n",
       "      <th>30</th>\n",
       "      <td>DNHG@ISO_060</td>\n",
       "      <td>DNHG</td>\n",
       "      <td>ISO_060</td>\n",
       "      <td>60</td>\n",
       "      <td>2802.0</td>\n",
       "      <td>1</td>\n",
       "      <td>2802.0</td>\n",
       "      <td>0.0</td>\n",
       "      <td>2</td>\n",
       "      <td>UK</td>\n",
       "      <td>3</td>\n",
       "      <td>4</td>\n",
       "    </tr>\n",
       "    <tr>\n",
       "      <th>39</th>\n",
       "      <td>DNHG@ISO_061</td>\n",
       "      <td>DNHG</td>\n",
       "      <td>ISO_061</td>\n",
       "      <td>61</td>\n",
       "      <td>2844.0</td>\n",
       "      <td>1</td>\n",
       "      <td>2844.0</td>\n",
       "      <td>0.0</td>\n",
       "      <td>7</td>\n",
       "      <td>UK</td>\n",
       "      <td>3</td>\n",
       "      <td>5</td>\n",
       "    </tr>\n",
       "  </tbody>\n",
       "</table>\n",
       "</div>"
      ]
     },
     "execution_count": 16,
     "metadata": {
     },
     "output_type": "execute_result"
    }
   ],
   "source": [
    "winningBids = []\n",
    "index = 0\n",
    "bidNum = 0\n",
    "for bids in range(len(bidsDf.index)):\n",
    "    if model.x[bids].value > 0:\n",
    "        winningBids.append(bidNum)\n",
    "    bidNum += 1\n",
    "    index += 1\n",
    "\n",
    "winningBidsDf = bidsDf.iloc[winningBids]\n",
    "winningBidsDf.head()"
   ]
  },
  {
   "cell_type": "code",
   "execution_count": 17,
   "metadata": {
    "collapsed": false
   },
   "outputs": [
    {
     "data": {
      "text/html": [
       "<div>\n",
       "<style scoped>\n",
       "    .dataframe tbody tr th:only-of-type {\n",
       "        vertical-align: middle;\n",
       "    }\n",
       "\n",
       "    .dataframe tbody tr th {\n",
       "        vertical-align: top;\n",
       "    }\n",
       "\n",
       "    .dataframe thead th {\n",
       "        text-align: right;\n",
       "    }\n",
       "</style>\n",
       "<table border=\"1\" class=\"dataframe\">\n",
       "  <thead>\n",
       "    <tr style=\"text-align: right;\">\n",
       "      <th></th>\n",
       "      <th>Bid</th>\n",
       "      <th>Carrier</th>\n",
       "      <th>Lot</th>\n",
       "      <th>Lot#</th>\n",
       "      <th>Cost</th>\n",
       "      <th>Rank</th>\n",
       "      <th>Lowest Bid</th>\n",
       "      <th>Delta vs Lowest</th>\n",
       "      <th>Shipments per Lot</th>\n",
       "      <th>Site Cluster</th>\n",
       "      <th>Carrier Index</th>\n",
       "      <th>Cluster Lot Index</th>\n",
       "    </tr>\n",
       "  </thead>\n",
       "  <tbody>\n",
       "    <tr>\n",
       "      <th>0</th>\n",
       "      <td>ITLW@ISO_057</td>\n",
       "      <td>ITLW</td>\n",
       "      <td>ISO_057</td>\n",
       "      <td>57</td>\n",
       "      <td>3900.0</td>\n",
       "      <td>1</td>\n",
       "      <td>3900.0</td>\n",
       "      <td>0.0</td>\n",
       "      <td>41</td>\n",
       "      <td>UK</td>\n",
       "      <td>5</td>\n",
       "      <td>1</td>\n",
       "    </tr>\n",
       "    <tr>\n",
       "      <th>11</th>\n",
       "      <td>SUTI@ISO_058</td>\n",
       "      <td>SUTI</td>\n",
       "      <td>ISO_058</td>\n",
       "      <td>58</td>\n",
       "      <td>3232.8</td>\n",
       "      <td>1</td>\n",
       "      <td>3232.8</td>\n",
       "      <td>0.0</td>\n",
       "      <td>10</td>\n",
       "      <td>UK</td>\n",
       "      <td>14</td>\n",
       "      <td>2</td>\n",
       "    </tr>\n",
       "    <tr>\n",
       "      <th>21</th>\n",
       "      <td>ITLW@ISO_059</td>\n",
       "      <td>ITLW</td>\n",
       "      <td>ISO_059</td>\n",
       "      <td>59</td>\n",
       "      <td>2220.0</td>\n",
       "      <td>1</td>\n",
       "      <td>2220.0</td>\n",
       "      <td>0.0</td>\n",
       "      <td>9</td>\n",
       "      <td>UK</td>\n",
       "      <td>5</td>\n",
       "      <td>3</td>\n",
       "    </tr>\n",
       "    <tr>\n",
       "      <th>30</th>\n",
       "      <td>DNHG@ISO_060</td>\n",
       "      <td>DNHG</td>\n",
       "      <td>ISO_060</td>\n",
       "      <td>60</td>\n",
       "      <td>2802.0</td>\n",
       "      <td>1</td>\n",
       "      <td>2802.0</td>\n",
       "      <td>0.0</td>\n",
       "      <td>2</td>\n",
       "      <td>UK</td>\n",
       "      <td>3</td>\n",
       "      <td>4</td>\n",
       "    </tr>\n",
       "    <tr>\n",
       "      <th>39</th>\n",
       "      <td>DNHG@ISO_061</td>\n",
       "      <td>DNHG</td>\n",
       "      <td>ISO_061</td>\n",
       "      <td>61</td>\n",
       "      <td>2844.0</td>\n",
       "      <td>1</td>\n",
       "      <td>2844.0</td>\n",
       "      <td>0.0</td>\n",
       "      <td>7</td>\n",
       "      <td>UK</td>\n",
       "      <td>3</td>\n",
       "      <td>5</td>\n",
       "    </tr>\n",
       "    <tr>\n",
       "      <th>48</th>\n",
       "      <td>ITLW@ISO_062</td>\n",
       "      <td>ITLW</td>\n",
       "      <td>ISO_062</td>\n",
       "      <td>62</td>\n",
       "      <td>1380.0</td>\n",
       "      <td>1</td>\n",
       "      <td>1380.0</td>\n",
       "      <td>0.0</td>\n",
       "      <td>10</td>\n",
       "      <td>UK</td>\n",
       "      <td>5</td>\n",
       "      <td>6</td>\n",
       "    </tr>\n",
       "    <tr>\n",
       "      <th>59</th>\n",
       "      <td>DNHG@ISO_063</td>\n",
       "      <td>DNHG</td>\n",
       "      <td>ISO_063</td>\n",
       "      <td>63</td>\n",
       "      <td>1306.8</td>\n",
       "      <td>1</td>\n",
       "      <td>1306.8</td>\n",
       "      <td>0.0</td>\n",
       "      <td>345</td>\n",
       "      <td>UK</td>\n",
       "      <td>3</td>\n",
       "      <td>7</td>\n",
       "    </tr>\n",
       "    <tr>\n",
       "      <th>71</th>\n",
       "      <td>DNHG@ISO_064</td>\n",
       "      <td>DNHG</td>\n",
       "      <td>ISO_064</td>\n",
       "      <td>64</td>\n",
       "      <td>4226.4</td>\n",
       "      <td>1</td>\n",
       "      <td>4226.4</td>\n",
       "      <td>0.0</td>\n",
       "      <td>130</td>\n",
       "      <td>UK</td>\n",
       "      <td>3</td>\n",
       "      <td>8</td>\n",
       "    </tr>\n",
       "    <tr>\n",
       "      <th>79</th>\n",
       "      <td>SUTI@ISO_217</td>\n",
       "      <td>SUTI</td>\n",
       "      <td>ISO_217</td>\n",
       "      <td>217</td>\n",
       "      <td>3280.8</td>\n",
       "      <td>1</td>\n",
       "      <td>3280.8</td>\n",
       "      <td>0.0</td>\n",
       "      <td>55</td>\n",
       "      <td>UK</td>\n",
       "      <td>14</td>\n",
       "      <td>9</td>\n",
       "    </tr>\n",
       "  </tbody>\n",
       "</table>\n",
       "</div>"
      ]
     },
     "execution_count": 17,
     "metadata": {
     },
     "output_type": "execute_result"
    }
   ],
   "source": [
    "winningBidsDf"
   ]
  },
  {
   "cell_type": "code",
   "execution_count": 0,
   "metadata": {
    "collapsed": false
   },
   "outputs": [
   ],
   "source": [
    "Total = sum(winningBidsDf['Cost']*winningBidsDf['Shipments per Lot'])\n",
    "Total"
   ]
  },
  {
   "cell_type": "code",
   "execution_count": 18,
   "metadata": {
    "collapsed": false
   },
   "outputs": [
   ],
   "source": [
    "winningBidsDf.to_csv('UK Carrier Constraint WinningBids.csv')"
   ]
  },
  {
   "cell_type": "code",
   "execution_count": 0,
   "metadata": {
    "collapsed": false
   },
   "outputs": [
   ],
   "source": [
   ]
  }
 ],
 "metadata": {
  "kernelspec": {
   "display_name": "Python 3 (Anaconda 5)",
   "language": "python",
   "name": "anaconda5"
  },
  "language_info": {
   "codemirror_mode": {
    "name": "ipython",
    "version": 3
   },
   "file_extension": ".py",
   "mimetype": "text/x-python",
   "name": "python",
   "nbconvert_exporter": "python",
   "pygments_lexer": "ipython3",
   "version": "3.6.5"
  }
 },
 "nbformat": 4,
 "nbformat_minor": 0
}